{
 "cells": [
  {
   "cell_type": "markdown",
   "metadata": {},
   "source": [
    "# Fundamentals of Data Pipeline"
   ]
  },
  {
   "cell_type": "markdown",
   "metadata": {},
   "source": [
    "## What is a Data Pipeline?\n",
    "\n",
    "A Data Pipeline is a unified system for capturing events, sometimes from different sources, to offer them to value generation initiatives (like analytics, building products, monitoring, etc.). "
   ]
  },
  {
   "cell_type": "markdown",
   "metadata": {},
   "source": [
    "![Example of a Data Pipeline](img/data-pipeline.png)"
   ]
  },
  {
   "cell_type": "markdown",
   "metadata": {},
   "source": [
    "## What can we call EVENTS?\n",
    "\n",
    "Each action executed can be called an event. And an action can be executed by:\n",
    "- Users;\n",
    "- Systems;\n",
    "- Bots;"
   ]
  },
  {
   "cell_type": "markdown",
   "metadata": {},
   "source": [
    "### Coarse-grained events\n",
    "\n",
    "This type of event is a kind of *by-product* derived by the main product/operation being tracked. Usually, coarse-grained events are stored as text logs that can be used for debugging and analysis ."
   ]
  },
  {
   "cell_type": "markdown",
   "metadata": {},
   "source": [
    "```json\n",
    "{\n",
    "  \"id\": 3969,\n",
    "  \"ip\": \"127.0.0.1\",\n",
    "  \"timestamp\": \"2018-01-03 08:48:26.987-02Z\",\n",
    "  \"action\": \"GET / HTTP/2.0\",\n",
    "  \"status\": 200\n",
    "}\n",
    "```"
   ]
  },
  {
   "cell_type": "markdown",
   "metadata": {},
   "source": [
    "In some cases, the content of an action has some meaning that have to be known at the debugging or analysis time. For example, suppose you have the following event from an email app:\n",
    "\n",
    "```json\n",
    "{\n",
    "  \"id\": 36728,\n",
    "  \"ip\": \"127.0.0.1\",\n",
    "  \"timestamp\": \"2018-01-03 08:55:26.987-02Z\",\n",
    "  \"action\": \"GET /inbox\",\n",
    "  \"status\": 200\n",
    "}\n",
    "```\n",
    "\n",
    "This event have two possible meanings:\n",
    "- User just loaded the entire app (if this is the first time loaded this session);\n",
    "- User just refreshed his timeline/inbox;\n",
    "\n",
    "So, this implementation details have to be documented and spread over the target people that is going to use it to run some analysis or debugging."
   ]
  },
  {
   "cell_type": "markdown",
   "metadata": {},
   "source": [
    "### Fine-grained events\n",
    "\n",
    "This type of event have a record/ticket format like:\n",
    "- app opened;\n",
    "- auto refresh;\n",
    "- user pull down refresh;\n",
    "\n",
    "Using fine-grained events we annotate actions with some contextual information. So we don't have the risk of multiple meaning as we have with course-grained one."
   ]
  },
  {
   "cell_type": "markdown",
   "metadata": {},
   "source": [
    "### Course VS fine grained\n",
    "\n",
    "Usually, course-grained events are more suitable for logging and debugging, once we don't the exact context that is going to embrace an issue or bug. So we need more **generic** data.\n",
    "\n",
    "However, analytics initiatives have their scope/context well defined. So it is a good practice to create specific events for everything within the defined context.\n",
    "\n",
    "The final message of this topic is: **decouple** loggig and analysis!"
   ]
  },
  {
   "cell_type": "markdown",
   "metadata": {},
   "source": [
    "## Schema\n",
    "\n",
    "Schema is the structure used to describe your data, providing a contract between **fields** collected and their **data types**."
   ]
  },
  {
   "cell_type": "markdown",
   "metadata": {},
   "source": [
    "### Schema and schema-less events\n",
    "\n",
    "Nowadays, some schema-less formats have been widely used for events collection, like JSON and CSV format. And we also have the old but extensively used table format (e.g. SQL/relational).\n",
    "\n",
    "The main advantages of having an event schema are:\n",
    "- More efficient processing, once you don't have to spent resources for checking new fields of changes in data type;\n",
    "- You don't need to write parsers;\n",
    "- Easier to change schemas, once you previously know it;\n",
    "- Facilities **automated anaytics**;\n",
    "\n",
    "But there are drawbacks too:\n",
    "- You put data processing effort in the application side;\n",
    "- less flexibility for shipping new data;"
   ]
  },
  {
   "cell_type": "markdown",
   "metadata": {},
   "source": [
    "# Show me the code"
   ]
  },
  {
   "cell_type": "markdown",
   "metadata": {},
   "source": [
    "### Collecting data"
   ]
  },
  {
   "cell_type": "markdown",
   "metadata": {},
   "source": [
    "Let's use Vizgr (www.vizgr.org) webservice to request some historical events from Wikpedia."
   ]
  },
  {
   "cell_type": "code",
   "execution_count": 2,
   "metadata": {
    "collapsed": true
   },
   "outputs": [],
   "source": [
    "VIZGR_URL = \"http://www.vizgr.org/historical-events/search.php?format=json&begin_date=-3000000&end_date=20171231&lang=pt\""
   ]
  },
  {
   "cell_type": "code",
   "execution_count": 9,
   "metadata": {
    "collapsed": true
   },
   "outputs": [],
   "source": [
    "import urllib2\n",
    "import json"
   ]
  },
  {
   "cell_type": "code",
   "execution_count": 11,
   "metadata": {
    "collapsed": true
   },
   "outputs": [],
   "source": [
    "response = urllib2.urlopen(VIZGR_URL)\n",
    "result = response.read()"
   ]
  },
  {
   "cell_type": "code",
   "execution_count": 26,
   "metadata": {
    "collapsed": false,
    "scrolled": false
   },
   "outputs": [
    {
     "name": "stdout",
     "output_type": "stream",
     "text": [
      "{\"result\": {\"count\": \"7879\", \"event\": {\"date\": \"-292\", \"description\": \"In\\u00edcio da constru\\u00e7\\u00e3o do '''''colosso de Rodes''''' pelo escultor rodiano Car\\u00e9s de Lindos.\", \"lang\": \"pt\", \"granularity\": \"year\"}, \"event\": {\"date\": \"-280\", \"description\": \"T\\u00e9rmino da constru\\u00e7\\u00e3o \n"
     ]
    }
   ],
   "source": [
    "print result[:300]"
   ]
  },
  {
   "cell_type": "markdown",
   "metadata": {},
   "source": [
    "## Parsing"
   ]
  },
  {
   "cell_type": "markdown",
   "metadata": {},
   "source": [
    "Here we go with our first issue. The URL response is not a good JSON schema because all events (embraced into a `event` key) is not structured as a list. So an automatic JSON parsing is not gonna work."
   ]
  },
  {
   "cell_type": "code",
   "execution_count": 30,
   "metadata": {
    "collapsed": false
   },
   "outputs": [],
   "source": [
    "data = json.loads(result)"
   ]
  },
  {
   "cell_type": "code",
   "execution_count": 31,
   "metadata": {
    "collapsed": false
   },
   "outputs": [
    {
     "data": {
      "text/plain": [
       "{u'count': u'7879',\n",
       " u'event': {u'category1': u'Novembro',\n",
       "  u'date': u'2013',\n",
       "  u'description': u'Elei\\xe7\\xf5es em 2013',\n",
       "  u'granularity': u'year',\n",
       "  u'lang': u'pt'}}"
      ]
     },
     "execution_count": 31,
     "metadata": {},
     "output_type": "execute_result"
    }
   ],
   "source": [
    "data.get('result')"
   ]
  },
  {
   "cell_type": "markdown",
   "metadata": {},
   "source": [
    "As we can see, the automatic JSON parsing returns only one event (the last one). What can we do now?"
   ]
  },
  {
   "cell_type": "markdown",
   "metadata": {},
   "source": [
    "#### Splitting the string\n",
    "\n",
    "We can see in the raw JSON data that all event begin with the `event` key. So we can split the entire string by this key and get a list of all entries.\n",
    "\n",
    "To be more assertive in the splitting, we are going to include in the default separator all the chars that will not be used in our JSON parsing. Thus our default separator will be **`', \"event\": '`**. "
   ]
  },
  {
   "cell_type": "code",
   "execution_count": 36,
   "metadata": {
    "collapsed": false
   },
   "outputs": [],
   "source": [
    "result_splitted = result.split(\", \\\"event\\\": \")"
   ]
  },
  {
   "cell_type": "markdown",
   "metadata": {},
   "source": [
    "#### Checking split boundaries"
   ]
  },
  {
   "cell_type": "code",
   "execution_count": 42,
   "metadata": {
    "collapsed": false
   },
   "outputs": [
    {
     "name": "stdout",
     "output_type": "stream",
     "text": [
      "{\"result\": {\"count\": \"7879\"\n",
      "{\"date\": \"-292\", \"description\": \"In\\u00edcio da constru\\u00e7\\u00e3o do '''''colosso de Rodes''''' pelo escultor rodiano Car\\u00e9s de Lindos.\", \"lang\": \"pt\", \"granularity\": \"year\"}\n",
      "{\"date\": \"-280\", \"description\": \"T\\u00e9rmino da constru\\u00e7\\u00e3o do '''colosso de Rodes''' \\u2014 uma das '''''sete maravilhas do mundo antigo''''' \\u2014 pelo escultor rodiano Car\\u00e9s de Lindos.\", \"lang\": \"pt\", \"granularity\": \"year\"}\n"
     ]
    }
   ],
   "source": [
    "for res in result_splitted[:3]: print res"
   ]
  },
  {
   "cell_type": "markdown",
   "metadata": {},
   "source": [
    "As we can see, the first item do not compose one event once is only metadata (stats) from all events received in the response. So we are going to ignore it."
   ]
  },
  {
   "cell_type": "code",
   "execution_count": 44,
   "metadata": {
    "collapsed": false
   },
   "outputs": [
    {
     "data": {
      "text/plain": [
       "['{\"date\": \"2013\", \"description\": \"Desastres em 2013\", \"lang\": \"pt\", \"category1\": \"Novembro\", \"granularity\": \"year\"}',\n",
       " '{\"date\": \"2013\", \"description\": \"Divis\\\\u00f5es administrativas em 2013\", \"lang\": \"pt\", \"category1\": \"Novembro\", \"granularity\": \"year\"}',\n",
       " '{\"date\": \"2013\", \"description\": \"Elei\\\\u00e7\\\\u00f5es em 2013\", \"lang\": \"pt\", \"category1\": \"Novembro\", \"granularity\": \"year\"}}}']"
      ]
     },
     "execution_count": 44,
     "metadata": {},
     "output_type": "execute_result"
    }
   ],
   "source": [
    "result_splitted[-3:]"
   ]
  },
  {
   "cell_type": "markdown",
   "metadata": {},
   "source": [
    "We also have an issue with the last item because it have an invalid JSON schema. The braces from the ignored keys (`result` and `count`) are in the end of the string. So we need to treat it too by ignoring the last two characters of the string."
   ]
  },
  {
   "cell_type": "code",
   "execution_count": 46,
   "metadata": {
    "collapsed": false
   },
   "outputs": [
    {
     "data": {
      "text/plain": [
       "': \"year\"}'"
      ]
     },
     "execution_count": 46,
     "metadata": {},
     "output_type": "execute_result"
    }
   ],
   "source": [
    "': \"year\"}}}'[:-2]"
   ]
  },
  {
   "cell_type": "code",
   "execution_count": 47,
   "metadata": {
    "collapsed": true
   },
   "outputs": [],
   "source": [
    "result_splitted = result[:-2].split(\", \\\"event\\\": \")"
   ]
  },
  {
   "cell_type": "markdown",
   "metadata": {},
   "source": [
    "Now we can safely split the string and get out event list."
   ]
  },
  {
   "cell_type": "code",
   "execution_count": 48,
   "metadata": {
    "collapsed": false
   },
   "outputs": [],
   "source": [
    "events = [json.loads(res) for res in result_splitted[1:]]"
   ]
  },
  {
   "cell_type": "code",
   "execution_count": 50,
   "metadata": {
    "collapsed": false
   },
   "outputs": [
    {
     "data": {
      "text/plain": [
       "[{u'date': u'-292',\n",
       "  u'description': u\"In\\xedcio da constru\\xe7\\xe3o do '''''colosso de Rodes''''' pelo escultor rodiano Car\\xe9s de Lindos.\",\n",
       "  u'granularity': u'year',\n",
       "  u'lang': u'pt'},\n",
       " {u'date': u'-280',\n",
       "  u'description': u\"T\\xe9rmino da constru\\xe7\\xe3o do '''colosso de Rodes''' \\u2014 uma das '''''sete maravilhas do mundo antigo''''' \\u2014 pelo escultor rodiano Car\\xe9s de Lindos.\",\n",
       "  u'granularity': u'year',\n",
       "  u'lang': u'pt'},\n",
       " {u'date': u'-280',\n",
       "  u'description': u\"Constru\\xe7\\xe3o do '''farol de Alexandria''' \\u2014 uma das '''''sete maravilhas do mundo antigo''''' \\u2014 pelo arquiteto e engenheiro S\\xf3strato de Cnido.\",\n",
       "  u'granularity': u'year',\n",
       "  u'lang': u'pt'}]"
      ]
     },
     "execution_count": 50,
     "metadata": {},
     "output_type": "execute_result"
    }
   ],
   "source": [
    "events[:3]"
   ]
  },
  {
   "cell_type": "markdown",
   "metadata": {},
   "source": [
    "## Schema"
   ]
  },
  {
   "cell_type": "markdown",
   "metadata": {},
   "source": [
    "Now that we have our events all parsed, we need to check their schema:\n",
    "- Do they have the same schema?\n",
    "- What are the fields?\n",
    "- What are the data types?\n",
    "- Are the data types homogeneous?"
   ]
  },
  {
   "cell_type": "markdown",
   "metadata": {},
   "source": [
    "The first event have the following fieds and values:"
   ]
  },
  {
   "cell_type": "code",
   "execution_count": 51,
   "metadata": {
    "collapsed": false
   },
   "outputs": [
    {
     "data": {
      "text/plain": [
       "[u'date', u'lang', u'description', u'granularity']"
      ]
     },
     "execution_count": 51,
     "metadata": {},
     "output_type": "execute_result"
    }
   ],
   "source": [
    "events[0].keys()"
   ]
  },
  {
   "cell_type": "code",
   "execution_count": 52,
   "metadata": {
    "collapsed": false
   },
   "outputs": [
    {
     "data": {
      "text/plain": [
       "[u'-292',\n",
       " u'pt',\n",
       " u\"In\\xedcio da constru\\xe7\\xe3o do '''''colosso de Rodes''''' pelo escultor rodiano Car\\xe9s de Lindos.\",\n",
       " u'year']"
      ]
     },
     "execution_count": 52,
     "metadata": {},
     "output_type": "execute_result"
    }
   ],
   "source": [
    "events[0].values()"
   ]
  },
  {
   "cell_type": "markdown",
   "metadata": {},
   "source": [
    "So seems that we have the following schema:\n",
    "\n",
    "```json\n",
    "{\n",
    "  \"date\": \"INTEGER\",\n",
    "  \"lang\": \"STRING\",\n",
    "  \"description\": \"STRING\",\n",
    "  \"granularity\": \"STRING\"\n",
    "}\n",
    "```\n",
    "\n",
    "Let's check now for all entries. Let Pandas shine for you!"
   ]
  },
  {
   "cell_type": "code",
   "execution_count": 53,
   "metadata": {
    "collapsed": true
   },
   "outputs": [],
   "source": [
    "import pandas as pd"
   ]
  },
  {
   "cell_type": "markdown",
   "metadata": {},
   "source": [
    "Now we are going to create a dataframe (table-like) to manage all events."
   ]
  },
  {
   "cell_type": "code",
   "execution_count": 57,
   "metadata": {
    "collapsed": false
   },
   "outputs": [],
   "source": [
    "df = pd.DataFrame.from_dict(events)"
   ]
  },
  {
   "cell_type": "code",
   "execution_count": 59,
   "metadata": {
    "collapsed": false
   },
   "outputs": [
    {
     "data": {
      "text/html": [
       "<div>\n",
       "<table border=\"1\" class=\"dataframe\">\n",
       "  <thead>\n",
       "    <tr style=\"text-align: right;\">\n",
       "      <th></th>\n",
       "      <th>category1</th>\n",
       "      <th>category2</th>\n",
       "      <th>date</th>\n",
       "      <th>description</th>\n",
       "      <th>granularity</th>\n",
       "      <th>lang</th>\n",
       "    </tr>\n",
       "  </thead>\n",
       "  <tbody>\n",
       "    <tr>\n",
       "      <th>0</th>\n",
       "      <td>NaN</td>\n",
       "      <td>NaN</td>\n",
       "      <td>-292</td>\n",
       "      <td>Início da construção do '''''colosso de Rodes'...</td>\n",
       "      <td>year</td>\n",
       "      <td>pt</td>\n",
       "    </tr>\n",
       "    <tr>\n",
       "      <th>1</th>\n",
       "      <td>NaN</td>\n",
       "      <td>NaN</td>\n",
       "      <td>-280</td>\n",
       "      <td>Término da construção do '''colosso de Rodes''...</td>\n",
       "      <td>year</td>\n",
       "      <td>pt</td>\n",
       "    </tr>\n",
       "    <tr>\n",
       "      <th>2</th>\n",
       "      <td>NaN</td>\n",
       "      <td>NaN</td>\n",
       "      <td>-280</td>\n",
       "      <td>Construção do '''farol de Alexandria''' — uma ...</td>\n",
       "      <td>year</td>\n",
       "      <td>pt</td>\n",
       "    </tr>\n",
       "    <tr>\n",
       "      <th>3</th>\n",
       "      <td>NaN</td>\n",
       "      <td>NaN</td>\n",
       "      <td>-280</td>\n",
       "      <td>Batalha de Heracleia, na qual Pirro enfrenta p...</td>\n",
       "      <td>year</td>\n",
       "      <td>pt</td>\n",
       "    </tr>\n",
       "    <tr>\n",
       "      <th>4</th>\n",
       "      <td>NaN</td>\n",
       "      <td>NaN</td>\n",
       "      <td>-279</td>\n",
       "      <td>Batalha de Ásculo entre os Romanos e Pirro.</td>\n",
       "      <td>year</td>\n",
       "      <td>pt</td>\n",
       "    </tr>\n",
       "    <tr>\n",
       "      <th>5</th>\n",
       "      <td>NaN</td>\n",
       "      <td>NaN</td>\n",
       "      <td>-275</td>\n",
       "      <td>einado de Arquídamo IV rei de Esparta de 305 a...</td>\n",
       "      <td>year</td>\n",
       "      <td>pt</td>\n",
       "    </tr>\n",
       "    <tr>\n",
       "      <th>6</th>\n",
       "      <td>NaN</td>\n",
       "      <td>NaN</td>\n",
       "      <td>-275</td>\n",
       "      <td>einado de Eudâmidas II rei de Esparta entre 27...</td>\n",
       "      <td>year</td>\n",
       "      <td>pt</td>\n",
       "    </tr>\n",
       "    <tr>\n",
       "      <th>7</th>\n",
       "      <td>NaN</td>\n",
       "      <td>NaN</td>\n",
       "      <td>-264</td>\n",
       "      <td>Os Mamertinos pedem ajuda a Roma e Cartago par...</td>\n",
       "      <td>year</td>\n",
       "      <td>pt</td>\n",
       "    </tr>\n",
       "    <tr>\n",
       "      <th>8</th>\n",
       "      <td>NaN</td>\n",
       "      <td>NaN</td>\n",
       "      <td>-263</td>\n",
       "      <td>Primeira guerra púnica - Hiero II é derrotado ...</td>\n",
       "      <td>year</td>\n",
       "      <td>pt</td>\n",
       "    </tr>\n",
       "    <tr>\n",
       "      <th>9</th>\n",
       "      <td>NaN</td>\n",
       "      <td>NaN</td>\n",
       "      <td>-263</td>\n",
       "      <td>Fundação de Belgrado a capital e maior cidade ...</td>\n",
       "      <td>year</td>\n",
       "      <td>pt</td>\n",
       "    </tr>\n",
       "  </tbody>\n",
       "</table>\n",
       "</div>"
      ],
      "text/plain": [
       "  category1 category2  date  \\\n",
       "0       NaN       NaN  -292   \n",
       "1       NaN       NaN  -280   \n",
       "2       NaN       NaN  -280   \n",
       "3       NaN       NaN  -280   \n",
       "4       NaN       NaN  -279   \n",
       "5       NaN       NaN  -275   \n",
       "6       NaN       NaN  -275   \n",
       "7       NaN       NaN  -264   \n",
       "8       NaN       NaN  -263   \n",
       "9       NaN       NaN  -263   \n",
       "\n",
       "                                         description granularity lang  \n",
       "0  Início da construção do '''''colosso de Rodes'...        year   pt  \n",
       "1  Término da construção do '''colosso de Rodes''...        year   pt  \n",
       "2  Construção do '''farol de Alexandria''' — uma ...        year   pt  \n",
       "3  Batalha de Heracleia, na qual Pirro enfrenta p...        year   pt  \n",
       "4        Batalha de Ásculo entre os Romanos e Pirro.        year   pt  \n",
       "5  einado de Arquídamo IV rei de Esparta de 305 a...        year   pt  \n",
       "6  einado de Eudâmidas II rei de Esparta entre 27...        year   pt  \n",
       "7  Os Mamertinos pedem ajuda a Roma e Cartago par...        year   pt  \n",
       "8  Primeira guerra púnica - Hiero II é derrotado ...        year   pt  \n",
       "9  Fundação de Belgrado a capital e maior cidade ...        year   pt  "
      ]
     },
     "execution_count": 59,
     "metadata": {},
     "output_type": "execute_result"
    }
   ],
   "source": [
    "df.head(10)"
   ]
  },
  {
   "cell_type": "markdown",
   "metadata": {},
   "source": [
    "When we load all events we see two additional fields `category1` and `category2` that are not present into the first event. So we don't have an normalized schema to all events.\n",
    "\n",
    "Let's check what we have into these categories:"
   ]
  },
  {
   "cell_type": "markdown",
   "metadata": {},
   "source": [
    "#### Category 1"
   ]
  },
  {
   "cell_type": "code",
   "execution_count": 75,
   "metadata": {
    "collapsed": false
   },
   "outputs": [
    {
     "data": {
      "text/plain": [
       "(5272, 6)"
      ]
     },
     "execution_count": 75,
     "metadata": {},
     "output_type": "execute_result"
    }
   ],
   "source": [
    "df[df.category1.isnull()].shape"
   ]
  },
  {
   "cell_type": "code",
   "execution_count": 76,
   "metadata": {
    "collapsed": false
   },
   "outputs": [
    {
     "data": {
      "text/plain": [
       "(2607, 6)"
      ]
     },
     "execution_count": 76,
     "metadata": {},
     "output_type": "execute_result"
    }
   ],
   "source": [
    "df[df.category1.notnull()].shape"
   ]
  },
  {
   "cell_type": "code",
   "execution_count": 67,
   "metadata": {
    "collapsed": false
   },
   "outputs": [
    {
     "data": {
      "text/html": [
       "<div>\n",
       "<table border=\"1\" class=\"dataframe\">\n",
       "  <thead>\n",
       "    <tr style=\"text-align: right;\">\n",
       "      <th></th>\n",
       "      <th>category2</th>\n",
       "      <th>date</th>\n",
       "      <th>description</th>\n",
       "      <th>granularity</th>\n",
       "      <th>lang</th>\n",
       "    </tr>\n",
       "    <tr>\n",
       "      <th>category1</th>\n",
       "      <th></th>\n",
       "      <th></th>\n",
       "      <th></th>\n",
       "      <th></th>\n",
       "      <th></th>\n",
       "    </tr>\n",
       "  </thead>\n",
       "  <tbody>\n",
       "    <tr>\n",
       "      <th>Abril</th>\n",
       "      <td>0</td>\n",
       "      <td>162</td>\n",
       "      <td>162</td>\n",
       "      <td>162</td>\n",
       "      <td>162</td>\n",
       "    </tr>\n",
       "    <tr>\n",
       "      <th>Agosto</th>\n",
       "      <td>0</td>\n",
       "      <td>127</td>\n",
       "      <td>127</td>\n",
       "      <td>127</td>\n",
       "      <td>127</td>\n",
       "    </tr>\n",
       "    <tr>\n",
       "      <th>Agosto a Outubro</th>\n",
       "      <td>0</td>\n",
       "      <td>3</td>\n",
       "      <td>3</td>\n",
       "      <td>3</td>\n",
       "      <td>3</td>\n",
       "    </tr>\n",
       "    <tr>\n",
       "      <th>América</th>\n",
       "      <td>0</td>\n",
       "      <td>3</td>\n",
       "      <td>3</td>\n",
       "      <td>3</td>\n",
       "      <td>3</td>\n",
       "    </tr>\n",
       "    <tr>\n",
       "      <th>Artes e Ciências</th>\n",
       "      <td>0</td>\n",
       "      <td>1</td>\n",
       "      <td>1</td>\n",
       "      <td>1</td>\n",
       "      <td>1</td>\n",
       "    </tr>\n",
       "    <tr>\n",
       "      <th>Artes e ciências</th>\n",
       "      <td>0</td>\n",
       "      <td>2</td>\n",
       "      <td>2</td>\n",
       "      <td>2</td>\n",
       "      <td>2</td>\n",
       "    </tr>\n",
       "    <tr>\n",
       "      <th>Asia</th>\n",
       "      <td>0</td>\n",
       "      <td>4</td>\n",
       "      <td>4</td>\n",
       "      <td>4</td>\n",
       "      <td>4</td>\n",
       "    </tr>\n",
       "    <tr>\n",
       "      <th>Brasil</th>\n",
       "      <td>0</td>\n",
       "      <td>14</td>\n",
       "      <td>14</td>\n",
       "      <td>14</td>\n",
       "      <td>14</td>\n",
       "    </tr>\n",
       "    <tr>\n",
       "      <th>Carnaval</th>\n",
       "      <td>0</td>\n",
       "      <td>13</td>\n",
       "      <td>13</td>\n",
       "      <td>13</td>\n",
       "      <td>13</td>\n",
       "    </tr>\n",
       "    <tr>\n",
       "      <th>Continente Americano</th>\n",
       "      <td>0</td>\n",
       "      <td>8</td>\n",
       "      <td>8</td>\n",
       "      <td>8</td>\n",
       "      <td>8</td>\n",
       "    </tr>\n",
       "    <tr>\n",
       "      <th>Datas desconhecidas</th>\n",
       "      <td>0</td>\n",
       "      <td>8</td>\n",
       "      <td>8</td>\n",
       "      <td>8</td>\n",
       "      <td>8</td>\n",
       "    </tr>\n",
       "    <tr>\n",
       "      <th>Dezembro</th>\n",
       "      <td>0</td>\n",
       "      <td>221</td>\n",
       "      <td>221</td>\n",
       "      <td>221</td>\n",
       "      <td>221</td>\n",
       "    </tr>\n",
       "    <tr>\n",
       "      <th>Em andamento</th>\n",
       "      <td>0</td>\n",
       "      <td>41</td>\n",
       "      <td>41</td>\n",
       "      <td>41</td>\n",
       "      <td>41</td>\n",
       "    </tr>\n",
       "    <tr>\n",
       "      <th>Espanha</th>\n",
       "      <td>0</td>\n",
       "      <td>1</td>\n",
       "      <td>1</td>\n",
       "      <td>1</td>\n",
       "      <td>1</td>\n",
       "    </tr>\n",
       "    <tr>\n",
       "      <th>Europa</th>\n",
       "      <td>0</td>\n",
       "      <td>11</td>\n",
       "      <td>11</td>\n",
       "      <td>11</td>\n",
       "      <td>11</td>\n",
       "    </tr>\n",
       "    <tr>\n",
       "      <th>Eventos em andamento</th>\n",
       "      <td>0</td>\n",
       "      <td>3</td>\n",
       "      <td>3</td>\n",
       "      <td>3</td>\n",
       "      <td>3</td>\n",
       "    </tr>\n",
       "    <tr>\n",
       "      <th>Eventos sem data</th>\n",
       "      <td>0</td>\n",
       "      <td>6</td>\n",
       "      <td>6</td>\n",
       "      <td>6</td>\n",
       "      <td>6</td>\n",
       "    </tr>\n",
       "    <tr>\n",
       "      <th>Extremo Oriente</th>\n",
       "      <td>0</td>\n",
       "      <td>11</td>\n",
       "      <td>11</td>\n",
       "      <td>11</td>\n",
       "      <td>11</td>\n",
       "    </tr>\n",
       "    <tr>\n",
       "      <th>Falecimentos</th>\n",
       "      <td>0</td>\n",
       "      <td>1</td>\n",
       "      <td>1</td>\n",
       "      <td>1</td>\n",
       "      <td>1</td>\n",
       "    </tr>\n",
       "    <tr>\n",
       "      <th>Fevereiro</th>\n",
       "      <td>0</td>\n",
       "      <td>196</td>\n",
       "      <td>196</td>\n",
       "      <td>196</td>\n",
       "      <td>196</td>\n",
       "    </tr>\n",
       "    <tr>\n",
       "      <th>Império Romano</th>\n",
       "      <td>0</td>\n",
       "      <td>68</td>\n",
       "      <td>68</td>\n",
       "      <td>68</td>\n",
       "      <td>68</td>\n",
       "    </tr>\n",
       "    <tr>\n",
       "      <th>Império romano</th>\n",
       "      <td>0</td>\n",
       "      <td>1</td>\n",
       "      <td>1</td>\n",
       "      <td>1</td>\n",
       "      <td>1</td>\n",
       "    </tr>\n",
       "    <tr>\n",
       "      <th>Janeiro</th>\n",
       "      <td>0</td>\n",
       "      <td>200</td>\n",
       "      <td>200</td>\n",
       "      <td>200</td>\n",
       "      <td>200</td>\n",
       "    </tr>\n",
       "    <tr>\n",
       "      <th>Janeiro - Junho</th>\n",
       "      <td>0</td>\n",
       "      <td>7</td>\n",
       "      <td>7</td>\n",
       "      <td>7</td>\n",
       "      <td>7</td>\n",
       "    </tr>\n",
       "    <tr>\n",
       "      <th>Janeiro a Abril</th>\n",
       "      <td>0</td>\n",
       "      <td>4</td>\n",
       "      <td>4</td>\n",
       "      <td>4</td>\n",
       "      <td>4</td>\n",
       "    </tr>\n",
       "    <tr>\n",
       "      <th>Julho</th>\n",
       "      <td>0</td>\n",
       "      <td>138</td>\n",
       "      <td>138</td>\n",
       "      <td>138</td>\n",
       "      <td>138</td>\n",
       "    </tr>\n",
       "    <tr>\n",
       "      <th>Julho - Agosto</th>\n",
       "      <td>0</td>\n",
       "      <td>4</td>\n",
       "      <td>4</td>\n",
       "      <td>4</td>\n",
       "      <td>4</td>\n",
       "    </tr>\n",
       "    <tr>\n",
       "      <th>Julho - Dezembro</th>\n",
       "      <td>0</td>\n",
       "      <td>10</td>\n",
       "      <td>10</td>\n",
       "      <td>10</td>\n",
       "      <td>10</td>\n",
       "    </tr>\n",
       "    <tr>\n",
       "      <th>Junho</th>\n",
       "      <td>0</td>\n",
       "      <td>147</td>\n",
       "      <td>147</td>\n",
       "      <td>147</td>\n",
       "      <td>147</td>\n",
       "    </tr>\n",
       "    <tr>\n",
       "      <th>Maio</th>\n",
       "      <td>0</td>\n",
       "      <td>194</td>\n",
       "      <td>194</td>\n",
       "      <td>194</td>\n",
       "      <td>194</td>\n",
       "    </tr>\n",
       "    <tr>\n",
       "      <th>Maio a Julho</th>\n",
       "      <td>0</td>\n",
       "      <td>2</td>\n",
       "      <td>2</td>\n",
       "      <td>2</td>\n",
       "      <td>2</td>\n",
       "    </tr>\n",
       "    <tr>\n",
       "      <th>Março</th>\n",
       "      <td>0</td>\n",
       "      <td>172</td>\n",
       "      <td>172</td>\n",
       "      <td>172</td>\n",
       "      <td>172</td>\n",
       "    </tr>\n",
       "    <tr>\n",
       "      <th>Novembro</th>\n",
       "      <td>0</td>\n",
       "      <td>171</td>\n",
       "      <td>171</td>\n",
       "      <td>171</td>\n",
       "      <td>171</td>\n",
       "    </tr>\n",
       "    <tr>\n",
       "      <th>Novembro e Dezembro</th>\n",
       "      <td>0</td>\n",
       "      <td>1</td>\n",
       "      <td>1</td>\n",
       "      <td>1</td>\n",
       "      <td>1</td>\n",
       "    </tr>\n",
       "    <tr>\n",
       "      <th>Ocidente</th>\n",
       "      <td>0</td>\n",
       "      <td>10</td>\n",
       "      <td>10</td>\n",
       "      <td>10</td>\n",
       "      <td>10</td>\n",
       "    </tr>\n",
       "    <tr>\n",
       "      <th>Outros</th>\n",
       "      <td>0</td>\n",
       "      <td>2</td>\n",
       "      <td>2</td>\n",
       "      <td>2</td>\n",
       "      <td>2</td>\n",
       "    </tr>\n",
       "    <tr>\n",
       "      <th>Outros eventos</th>\n",
       "      <td>0</td>\n",
       "      <td>50</td>\n",
       "      <td>50</td>\n",
       "      <td>50</td>\n",
       "      <td>50</td>\n",
       "    </tr>\n",
       "    <tr>\n",
       "      <th>Outubro</th>\n",
       "      <td>0</td>\n",
       "      <td>180</td>\n",
       "      <td>180</td>\n",
       "      <td>180</td>\n",
       "      <td>180</td>\n",
       "    </tr>\n",
       "    <tr>\n",
       "      <th>Política romana</th>\n",
       "      <td>0</td>\n",
       "      <td>3</td>\n",
       "      <td>3</td>\n",
       "      <td>3</td>\n",
       "      <td>3</td>\n",
       "    </tr>\n",
       "    <tr>\n",
       "      <th>Políticos</th>\n",
       "      <td>0</td>\n",
       "      <td>9</td>\n",
       "      <td>9</td>\n",
       "      <td>9</td>\n",
       "      <td>9</td>\n",
       "    </tr>\n",
       "    <tr>\n",
       "      <th>Por Localidade</th>\n",
       "      <td>5</td>\n",
       "      <td>5</td>\n",
       "      <td>5</td>\n",
       "      <td>5</td>\n",
       "      <td>5</td>\n",
       "    </tr>\n",
       "    <tr>\n",
       "      <th>Por assunto</th>\n",
       "      <td>8</td>\n",
       "      <td>8</td>\n",
       "      <td>8</td>\n",
       "      <td>8</td>\n",
       "      <td>8</td>\n",
       "    </tr>\n",
       "    <tr>\n",
       "      <th>Por local</th>\n",
       "      <td>20</td>\n",
       "      <td>20</td>\n",
       "      <td>20</td>\n",
       "      <td>20</td>\n",
       "      <td>20</td>\n",
       "    </tr>\n",
       "    <tr>\n",
       "      <th>Por localidade</th>\n",
       "      <td>11</td>\n",
       "      <td>11</td>\n",
       "      <td>11</td>\n",
       "      <td>11</td>\n",
       "      <td>11</td>\n",
       "    </tr>\n",
       "    <tr>\n",
       "      <th>Por lugar</th>\n",
       "      <td>19</td>\n",
       "      <td>19</td>\n",
       "      <td>19</td>\n",
       "      <td>19</td>\n",
       "      <td>19</td>\n",
       "    </tr>\n",
       "    <tr>\n",
       "      <th>Portugal</th>\n",
       "      <td>0</td>\n",
       "      <td>62</td>\n",
       "      <td>62</td>\n",
       "      <td>62</td>\n",
       "      <td>62</td>\n",
       "    </tr>\n",
       "    <tr>\n",
       "      <th>Primeira Guerra Púnica</th>\n",
       "      <td>0</td>\n",
       "      <td>5</td>\n",
       "      <td>5</td>\n",
       "      <td>5</td>\n",
       "      <td>5</td>\n",
       "    </tr>\n",
       "    <tr>\n",
       "      <th>Química</th>\n",
       "      <td>0</td>\n",
       "      <td>2</td>\n",
       "      <td>2</td>\n",
       "      <td>2</td>\n",
       "      <td>2</td>\n",
       "    </tr>\n",
       "    <tr>\n",
       "      <th>Religião</th>\n",
       "      <td>0</td>\n",
       "      <td>10</td>\n",
       "      <td>10</td>\n",
       "      <td>10</td>\n",
       "      <td>10</td>\n",
       "    </tr>\n",
       "    <tr>\n",
       "      <th>Sem data especificada</th>\n",
       "      <td>0</td>\n",
       "      <td>6</td>\n",
       "      <td>6</td>\n",
       "      <td>6</td>\n",
       "      <td>6</td>\n",
       "    </tr>\n",
       "    <tr>\n",
       "      <th>Setembro</th>\n",
       "      <td>0</td>\n",
       "      <td>212</td>\n",
       "      <td>212</td>\n",
       "      <td>212</td>\n",
       "      <td>212</td>\n",
       "    </tr>\n",
       "    <tr>\n",
       "      <th>Temáticos</th>\n",
       "      <td>0</td>\n",
       "      <td>3</td>\n",
       "      <td>3</td>\n",
       "      <td>3</td>\n",
       "      <td>3</td>\n",
       "    </tr>\n",
       "    <tr>\n",
       "      <th>Tópicos</th>\n",
       "      <td>2</td>\n",
       "      <td>2</td>\n",
       "      <td>2</td>\n",
       "      <td>2</td>\n",
       "      <td>2</td>\n",
       "    </tr>\n",
       "    <tr>\n",
       "      <th>dezembro</th>\n",
       "      <td>0</td>\n",
       "      <td>3</td>\n",
       "      <td>3</td>\n",
       "      <td>3</td>\n",
       "      <td>3</td>\n",
       "    </tr>\n",
       "    <tr>\n",
       "      <th>África</th>\n",
       "      <td>0</td>\n",
       "      <td>2</td>\n",
       "      <td>2</td>\n",
       "      <td>2</td>\n",
       "      <td>2</td>\n",
       "    </tr>\n",
       "    <tr>\n",
       "      <th>África e outras regiões</th>\n",
       "      <td>0</td>\n",
       "      <td>4</td>\n",
       "      <td>4</td>\n",
       "      <td>4</td>\n",
       "      <td>4</td>\n",
       "    </tr>\n",
       "    <tr>\n",
       "      <th>Ásia</th>\n",
       "      <td>0</td>\n",
       "      <td>24</td>\n",
       "      <td>24</td>\n",
       "      <td>24</td>\n",
       "      <td>24</td>\n",
       "    </tr>\n",
       "  </tbody>\n",
       "</table>\n",
       "</div>"
      ],
      "text/plain": [
       "                         category2  date  description  granularity  lang\n",
       "category1                                                               \n",
       "Abril                            0   162          162          162   162\n",
       "Agosto                           0   127          127          127   127\n",
       "Agosto a Outubro                 0     3            3            3     3\n",
       "América                          0     3            3            3     3\n",
       "Artes e Ciências                 0     1            1            1     1\n",
       "Artes e ciências                 0     2            2            2     2\n",
       "Asia                             0     4            4            4     4\n",
       "Brasil                           0    14           14           14    14\n",
       "Carnaval                         0    13           13           13    13\n",
       "Continente Americano             0     8            8            8     8\n",
       "Datas desconhecidas              0     8            8            8     8\n",
       "Dezembro                         0   221          221          221   221\n",
       "Em andamento                     0    41           41           41    41\n",
       "Espanha                          0     1            1            1     1\n",
       "Europa                           0    11           11           11    11\n",
       "Eventos em andamento             0     3            3            3     3\n",
       "Eventos sem data                 0     6            6            6     6\n",
       "Extremo Oriente                  0    11           11           11    11\n",
       "Falecimentos                     0     1            1            1     1\n",
       "Fevereiro                        0   196          196          196   196\n",
       "Império Romano                   0    68           68           68    68\n",
       "Império romano                   0     1            1            1     1\n",
       "Janeiro                          0   200          200          200   200\n",
       "Janeiro - Junho                  0     7            7            7     7\n",
       "Janeiro a Abril                  0     4            4            4     4\n",
       "Julho                            0   138          138          138   138\n",
       "Julho - Agosto                   0     4            4            4     4\n",
       "Julho - Dezembro                 0    10           10           10    10\n",
       "Junho                            0   147          147          147   147\n",
       "Maio                             0   194          194          194   194\n",
       "Maio a Julho                     0     2            2            2     2\n",
       "Março                            0   172          172          172   172\n",
       "Novembro                         0   171          171          171   171\n",
       "Novembro e Dezembro              0     1            1            1     1\n",
       "Ocidente                         0    10           10           10    10\n",
       "Outros                           0     2            2            2     2\n",
       "Outros eventos                   0    50           50           50    50\n",
       "Outubro                          0   180          180          180   180\n",
       "Política romana                  0     3            3            3     3\n",
       "Políticos                        0     9            9            9     9\n",
       "Por Localidade                   5     5            5            5     5\n",
       "Por assunto                      8     8            8            8     8\n",
       "Por local                       20    20           20           20    20\n",
       "Por localidade                  11    11           11           11    11\n",
       "Por lugar                       19    19           19           19    19\n",
       "Portugal                         0    62           62           62    62\n",
       "Primeira Guerra Púnica           0     5            5            5     5\n",
       "Química                          0     2            2            2     2\n",
       "Religião                         0    10           10           10    10\n",
       "Sem data especificada            0     6            6            6     6\n",
       "Setembro                         0   212          212          212   212\n",
       "Temáticos                        0     3            3            3     3\n",
       "Tópicos                          2     2            2            2     2\n",
       "dezembro                         0     3            3            3     3\n",
       "África                           0     2            2            2     2\n",
       "África e outras regiões          0     4            4            4     4\n",
       "Ásia                             0    24           24           24    24"
      ]
     },
     "execution_count": 67,
     "metadata": {},
     "output_type": "execute_result"
    }
   ],
   "source": [
    "df.groupby(['category1']).count()"
   ]
  },
  {
   "cell_type": "markdown",
   "metadata": {},
   "source": [
    "#### Category 2"
   ]
  },
  {
   "cell_type": "code",
   "execution_count": 77,
   "metadata": {
    "collapsed": false
   },
   "outputs": [
    {
     "data": {
      "text/plain": [
       "(7813, 6)"
      ]
     },
     "execution_count": 77,
     "metadata": {},
     "output_type": "execute_result"
    }
   ],
   "source": [
    "df[df.category2.isnull()].shape"
   ]
  },
  {
   "cell_type": "code",
   "execution_count": 78,
   "metadata": {
    "collapsed": false
   },
   "outputs": [
    {
     "data": {
      "text/plain": [
       "(66, 6)"
      ]
     },
     "execution_count": 78,
     "metadata": {},
     "output_type": "execute_result"
    }
   ],
   "source": [
    "df[df.category2.notnull()].shape"
   ]
  },
  {
   "cell_type": "code",
   "execution_count": 79,
   "metadata": {
    "collapsed": false
   },
   "outputs": [
    {
     "data": {
      "text/html": [
       "<div>\n",
       "<table border=\"1\" class=\"dataframe\">\n",
       "  <thead>\n",
       "    <tr style=\"text-align: right;\">\n",
       "      <th></th>\n",
       "      <th>category1</th>\n",
       "      <th>date</th>\n",
       "      <th>description</th>\n",
       "      <th>granularity</th>\n",
       "      <th>lang</th>\n",
       "    </tr>\n",
       "    <tr>\n",
       "      <th>category2</th>\n",
       "      <th></th>\n",
       "      <th></th>\n",
       "      <th></th>\n",
       "      <th></th>\n",
       "      <th></th>\n",
       "    </tr>\n",
       "  </thead>\n",
       "  <tbody>\n",
       "    <tr>\n",
       "      <th>Artes e Ciências</th>\n",
       "      <td>1</td>\n",
       "      <td>1</td>\n",
       "      <td>1</td>\n",
       "      <td>1</td>\n",
       "      <td>1</td>\n",
       "    </tr>\n",
       "    <tr>\n",
       "      <th>China</th>\n",
       "      <td>2</td>\n",
       "      <td>2</td>\n",
       "      <td>2</td>\n",
       "      <td>2</td>\n",
       "      <td>2</td>\n",
       "    </tr>\n",
       "    <tr>\n",
       "      <th>Europa</th>\n",
       "      <td>8</td>\n",
       "      <td>8</td>\n",
       "      <td>8</td>\n",
       "      <td>8</td>\n",
       "      <td>8</td>\n",
       "    </tr>\n",
       "    <tr>\n",
       "      <th>Império Romano</th>\n",
       "      <td>25</td>\n",
       "      <td>26</td>\n",
       "      <td>26</td>\n",
       "      <td>26</td>\n",
       "      <td>26</td>\n",
       "    </tr>\n",
       "    <tr>\n",
       "      <th>Império romano</th>\n",
       "      <td>2</td>\n",
       "      <td>2</td>\n",
       "      <td>2</td>\n",
       "      <td>2</td>\n",
       "      <td>2</td>\n",
       "    </tr>\n",
       "    <tr>\n",
       "      <th>México</th>\n",
       "      <td>1</td>\n",
       "      <td>1</td>\n",
       "      <td>1</td>\n",
       "      <td>1</td>\n",
       "      <td>1</td>\n",
       "    </tr>\n",
       "    <tr>\n",
       "      <th>Pártia</th>\n",
       "      <td>1</td>\n",
       "      <td>1</td>\n",
       "      <td>1</td>\n",
       "      <td>1</td>\n",
       "      <td>1</td>\n",
       "    </tr>\n",
       "    <tr>\n",
       "      <th>Religião</th>\n",
       "      <td>9</td>\n",
       "      <td>9</td>\n",
       "      <td>9</td>\n",
       "      <td>9</td>\n",
       "      <td>9</td>\n",
       "    </tr>\n",
       "    <tr>\n",
       "      <th>Roma</th>\n",
       "      <td>7</td>\n",
       "      <td>7</td>\n",
       "      <td>7</td>\n",
       "      <td>7</td>\n",
       "      <td>7</td>\n",
       "    </tr>\n",
       "    <tr>\n",
       "      <th>Ásia</th>\n",
       "      <td>8</td>\n",
       "      <td>8</td>\n",
       "      <td>8</td>\n",
       "      <td>8</td>\n",
       "      <td>8</td>\n",
       "    </tr>\n",
       "    <tr>\n",
       "      <th>Índia</th>\n",
       "      <td>1</td>\n",
       "      <td>1</td>\n",
       "      <td>1</td>\n",
       "      <td>1</td>\n",
       "      <td>1</td>\n",
       "    </tr>\n",
       "  </tbody>\n",
       "</table>\n",
       "</div>"
      ],
      "text/plain": [
       "                  category1  date  description  granularity  lang\n",
       "category2                                                        \n",
       "Artes e Ciências          1     1            1            1     1\n",
       "China                     2     2            2            2     2\n",
       "Europa                    8     8            8            8     8\n",
       "Império Romano           25    26           26           26    26\n",
       "Império romano            2     2            2            2     2\n",
       "México                    1     1            1            1     1\n",
       "Pártia                    1     1            1            1     1\n",
       "Religião                  9     9            9            9     9\n",
       "Roma                      7     7            7            7     7\n",
       "Ásia                      8     8            8            8     8\n",
       "Índia                     1     1            1            1     1"
      ]
     },
     "execution_count": 79,
     "metadata": {},
     "output_type": "execute_result"
    }
   ],
   "source": [
    "df.groupby(['category2']).count()"
   ]
  },
  {
   "cell_type": "markdown",
   "metadata": {},
   "source": [
    "# References\n",
    "\n",
    "1. https://www.slideshare.net/g33ktalk/data-pipeline-acial-lyceum20140624\n",
    "2. https://engineering.linkedin.com/distributed-systems/log-what-every-software-engineer-should-know-about-real-time-datas-unifying"
   ]
  },
  {
   "cell_type": "code",
   "execution_count": null,
   "metadata": {
    "collapsed": true
   },
   "outputs": [],
   "source": []
  }
 ],
 "metadata": {
  "anaconda-cloud": {},
  "kernelspec": {
   "display_name": "Python [default]",
   "language": "python",
   "name": "python2"
  },
  "language_info": {
   "codemirror_mode": {
    "name": "ipython",
    "version": 2
   },
   "file_extension": ".py",
   "mimetype": "text/x-python",
   "name": "python",
   "nbconvert_exporter": "python",
   "pygments_lexer": "ipython2",
   "version": "2.7.12"
  }
 },
 "nbformat": 4,
 "nbformat_minor": 1
}
