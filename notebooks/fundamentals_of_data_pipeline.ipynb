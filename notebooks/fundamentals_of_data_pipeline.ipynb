{
 "cells": [
  {
   "cell_type": "markdown",
   "metadata": {},
   "source": [
    "# Fundamentals of Data Pipeline"
   ]
  },
  {
   "cell_type": "markdown",
   "metadata": {},
   "source": [
    "## What is a Data Pipeline?\n",
    "\n",
    "A Data Pipeline is a unified system for capturing events, sometimes from different sources, to offer them to value generation initiatives (like analytics, building products, monitoring, etc.). "
   ]
  },
  {
   "cell_type": "markdown",
   "metadata": {},
   "source": [
    "![Example of a Data Pipeline](img/data-pipeline.png)"
   ]
  },
  {
   "cell_type": "markdown",
   "metadata": {},
   "source": [
    "## What can we call EVENTS?\n",
    "\n",
    "Each action executed can be called an event. And an action can be executed by:\n",
    "- Users;\n",
    "- Systems;\n",
    "- Bots;"
   ]
  },
  {
   "cell_type": "markdown",
   "metadata": {},
   "source": [
    "### Coarse-grained events\n",
    "\n",
    "This type of event is a kind of *by-product* derived by the main product/operation being tracked. Usually, coarse-grained events are stored as text logs that can be used for debugging and analysis ."
   ]
  },
  {
   "cell_type": "markdown",
   "metadata": {},
   "source": [
    "```json\n",
    "{\n",
    "  \"id\": 3969,\n",
    "  \"ip\": \"127.0.0.1\",\n",
    "  \"timestamp\": \"2018-01-03 08:48:26.987-02Z\",\n",
    "  \"action\": \"GET / HTTP/2.0\",\n",
    "  \"status\": 200\n",
    "}\n",
    "```"
   ]
  },
  {
   "cell_type": "markdown",
   "metadata": {},
   "source": [
    "In some cases, the content of an action has some meaning that have to be known at the debugging or analysis time. For example, suppose you have the following event from an email app:\n",
    "\n",
    "```json\n",
    "{\n",
    "  \"id\": 36728,\n",
    "  \"ip\": \"127.0.0.1\",\n",
    "  \"timestamp\": \"2018-01-03 08:55:26.987-02Z\",\n",
    "  \"action\": \"GET /inbox\",\n",
    "  \"status\": 200\n",
    "}\n",
    "```\n",
    "\n",
    "This event have two possible meanings:\n",
    "- User just loaded the entire app (if this is the first time loaded this session);\n",
    "- User just refreshed his timeline/inbox;\n",
    "\n",
    "So, this implementation details have to be documented and spread over the target people that is going to use it to run some analysis or debugging."
   ]
  },
  {
   "cell_type": "markdown",
   "metadata": {},
   "source": [
    "### Fine-grained events\n",
    "\n",
    "This type of event have a record/ticket format like:\n",
    "- app opened;\n",
    "- auto refresh;\n",
    "- user pull down refresh;\n",
    "\n",
    "Using fine-grained events we annotate actions with some contextual information. So we don't have the risk of multiple meaning as we have with course-grained one."
   ]
  },
  {
   "cell_type": "markdown",
   "metadata": {},
   "source": [
    "### Course VS fine grained\n",
    "\n",
    "Usually, course-grained events are more suitable for logging and debugging, once we don't the exact context that is going to embrace an issue or bug. So we need more **generic** data.\n",
    "\n",
    "However, analytics initiatives have their scope/context well defined. So it is a good practice to create specific events for everything within the defined context.\n",
    "\n",
    "The final message of this topic is: **decouple** loggig and analysis!"
   ]
  },
  {
   "cell_type": "markdown",
   "metadata": {},
   "source": [
    "## Schema\n",
    "\n",
    "Schema is the structure used to describe your data, providing a contract between **fields** collected and their **data types**."
   ]
  },
  {
   "cell_type": "markdown",
   "metadata": {},
   "source": [
    "### Schema and schema-less events\n",
    "\n",
    "Nowadays, some schema-less formats have been widely used for events collection, like JSON and CSV format. And we also have the old but extensively used table format (e.g. SQL/relational).\n",
    "\n",
    "The main advantages of having an event schema are:\n",
    "- More efficient processing, once you don't have to spent resources for checking new fields of changes in data type;\n",
    "- You don't need to write parsers;\n",
    "- Easier to change schemas, once you previously know it;\n",
    "- Facilities **automated anaytics**;\n",
    "\n",
    "But there are drawbacks too:\n",
    "- You put data processing effort in the application side;\n",
    "- less flexibility for shipping new data;"
   ]
  },
  {
   "cell_type": "markdown",
   "metadata": {},
   "source": [
    "# Show me the code"
   ]
  },
  {
   "cell_type": "markdown",
   "metadata": {},
   "source": [
    "Let's use Vizgr (www.vizgr.org) webservice to request some historical events from Wikpedia."
   ]
  },
  {
   "cell_type": "code",
   "execution_count": 2,
   "metadata": {
    "collapsed": true
   },
   "outputs": [],
   "source": [
    "VIZGR_URL = \"http://www.vizgr.org/historical-events/search.php?format=json&begin_date=-3000000&end_date=20171231&lang=pt\""
   ]
  },
  {
   "cell_type": "code",
   "execution_count": 3,
   "metadata": {
    "collapsed": true
   },
   "outputs": [],
   "source": [
    "import urllib2"
   ]
  },
  {
   "cell_type": "code",
   "execution_count": 7,
   "metadata": {
    "collapsed": true
   },
   "outputs": [],
   "source": [
    "response = urllib2.urlopen(VIZGR_URL)\n",
    "result = response.read()"
   ]
  },
  {
   "cell_type": "code",
   "execution_count": 8,
   "metadata": {
    "collapsed": false
   },
   "outputs": [
    {
     "data": {
      "text/plain": [
       "instance"
      ]
     },
     "execution_count": 8,
     "metadata": {},
     "output_type": "execute_result"
    }
   ],
   "source": [
    "type(response)"
   ]
  },
  {
   "cell_type": "markdown",
   "metadata": {},
   "source": [
    "# References\n",
    "\n",
    "1. https://www.slideshare.net/g33ktalk/data-pipeline-acial-lyceum20140624\n",
    "2. https://engineering.linkedin.com/distributed-systems/log-what-every-software-engineer-should-know-about-real-time-datas-unifying"
   ]
  },
  {
   "cell_type": "code",
   "execution_count": null,
   "metadata": {
    "collapsed": true
   },
   "outputs": [],
   "source": []
  }
 ],
 "metadata": {
  "anaconda-cloud": {},
  "kernelspec": {
   "display_name": "Python [default]",
   "language": "python",
   "name": "python2"
  },
  "language_info": {
   "codemirror_mode": {
    "name": "ipython",
    "version": 2
   },
   "file_extension": ".py",
   "mimetype": "text/x-python",
   "name": "python",
   "nbconvert_exporter": "python",
   "pygments_lexer": "ipython2",
   "version": "2.7.12"
  }
 },
 "nbformat": 4,
 "nbformat_minor": 1
}
