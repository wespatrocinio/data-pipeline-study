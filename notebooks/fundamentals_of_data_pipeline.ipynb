{
 "cells": [
  {
   "cell_type": "markdown",
   "metadata": {},
   "source": [
    "# Fundamentals of Data Pipeline"
   ]
  },
  {
   "cell_type": "markdown",
   "metadata": {},
   "source": [
    "## What is a Data Pipeline?\n",
    "\n",
    "A Data Pipeline is a unified system for capturing events, sometimes from different sources, to offer them to value generation initiatives (like analytics, building products, monitoring, etc.). "
   ]
  },
  {
   "cell_type": "markdown",
   "metadata": {},
   "source": [
    "![Example of a Data Pipeline](img/data-pipeline.png)"
   ]
  },
  {
   "cell_type": "markdown",
   "metadata": {},
   "source": [
    "## What can we call EVENTS?\n",
    "\n",
    "Each action executed can be called an event. And an action can be executed by:\n",
    "- Users;\n",
    "- Systems;\n",
    "- Bots;"
   ]
  },
  {
   "cell_type": "markdown",
   "metadata": {},
   "source": [
    "### Coarse-grained events\n",
    "\n",
    "This type of event is a kind of *by-product* derived by the main product/operation being tracked. Usually, coarse-grained events are stored as text logs that can be used for debugging and analysis ."
   ]
  },
  {
   "cell_type": "markdown",
   "metadata": {},
   "source": [
    "```json\n",
    "{\n",
    "  \"id\": 3969,\n",
    "  \"ip\": \"127.0.0.1\",\n",
    "  \"timestamp\": \"2018-01-03 08:48:26.987-02Z\",\n",
    "  \"action\": \"GET / HTTP/2.0\",\n",
    "  \"status\": 200\n",
    "}\n",
    "```"
   ]
  },
  {
   "cell_type": "markdown",
   "metadata": {},
   "source": [
    "In some cases, the content of an action has some meaning that have to be known at the debugging or analysis time. For example, suppose you have the following event from an email app:\n",
    "\n",
    "```json\n",
    "{\n",
    "  \"id\": 36728,\n",
    "  \"ip\": \"127.0.0.1\",\n",
    "  \"timestamp\": \"2018-01-03 08:55:26.987-02Z\",\n",
    "  \"action\": \"GET /inbox\",\n",
    "  \"status\": 200\n",
    "}\n",
    "```\n",
    "\n",
    "This event have two possible meanings:\n",
    "- User just loaded the entire app (if this is the first time loaded this session);\n",
    "- User just refreshed his timeline/inbox;\n",
    "\n",
    "So, this implementation details have to be documented and spread over the target people that is going to use it to run some analysis or debugging."
   ]
  },
  {
   "cell_type": "code",
   "execution_count": null,
   "metadata": {
    "collapsed": true
   },
   "outputs": [],
   "source": []
  }
 ],
 "metadata": {
  "anaconda-cloud": {},
  "kernelspec": {
   "display_name": "Python [default]",
   "language": "python",
   "name": "python2"
  },
  "language_info": {
   "codemirror_mode": {
    "name": "ipython",
    "version": 2
   },
   "file_extension": ".py",
   "mimetype": "text/x-python",
   "name": "python",
   "nbconvert_exporter": "python",
   "pygments_lexer": "ipython2",
   "version": "2.7.12"
  }
 },
 "nbformat": 4,
 "nbformat_minor": 1
}
